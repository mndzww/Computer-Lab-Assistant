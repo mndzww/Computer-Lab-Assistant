matriks = [[1, 2, 3], 
           [4, 5, 6], 
           [7, 8, 9]]

# Bilangan skalar
skalar = 3

# kali matriks dengan skalar
hasil = []
for baris in matriks:
    hasil_baris = []
    for elemen in baris:
        hasil_baris.append(elemen * skalar)
    hasil.append(hasil_baris)

# hasil
print("Hasil perkalian matriks dengan skalar:")
for baris in hasil:
    print(baris)
